{
 "cells": [
  {
   "cell_type": "code",
   "execution_count": 28,
   "id": "91053236",
   "metadata": {},
   "outputs": [
    {
     "name": "stdout",
     "output_type": "stream",
     "text": [
      "5\n",
      "2\n",
      "2\n",
      "3\n"
     ]
    },
    {
     "data": {
      "text/plain": [
       "'Yes'"
      ]
     },
     "execution_count": 28,
     "metadata": {},
     "output_type": "execute_result"
    }
   ],
   "source": [
    "\n",
    "\n",
    "def FindNumber(arr, k):\n",
    "    n = len(arr)\n",
    "    print(n)\n",
    "    for i in range(n):\n",
    "        print(arr[i])\n",
    "        if arr[i] == k:\n",
    "            results = \"Yes\"\n",
    "            break\n",
    "        else:\n",
    "            print(arr[i])\n",
    "            results = \"No\"\n",
    "    return str(results)\n",
    "\n",
    "FindNumber([2,3,5,1,6], 3)\n",
    "    \n",
    "\n",
    "#print(check, type (check))\n",
    "#print(check2, type (check2))"
   ]
  },
  {
   "cell_type": "code",
   "execution_count": null,
   "id": "f8c76b0a",
   "metadata": {},
   "outputs": [],
   "source": []
  },
  {
   "cell_type": "code",
   "execution_count": 71,
   "id": "0efa6b25",
   "metadata": {},
   "outputs": [
    {
     "name": "stdout",
     "output_type": "stream",
     "text": [
      "1\n",
      "2\n",
      "Fizz\n",
      "4\n",
      "Buzz\n",
      "Fizz\n",
      "7\n",
      "8\n",
      "Fizz\n",
      "Buzz\n",
      "11\n",
      "Fizz\n",
      "13\n",
      "14\n",
      "FizzBuzz\n"
     ]
    }
   ],
   "source": [
    "def fizzBuzz(n):\n",
    " \n",
    "    # Write your code here\n",
    "#n = 15\n",
    "    for i in range(1, n+1):\n",
    "        if i%3 == 0 and i%5 == 0:\n",
    "            print(\"FizzBuzz\")\n",
    "           \n",
    "        elif i%3 == 0 and i%5 != 0:\n",
    "            print(\"Fizz\")\n",
    "            \n",
    "        elif i%5 == 0 and i%3 != 0:\n",
    "            print(\"Buzz\")\n",
    "           \n",
    "        elif i%5 != 0 and i%3 != 0:\n",
    "            print(i)\n",
    "          \n",
    "        #print(results)\n",
    "            \n",
    "fizzBuzz(15)       \n",
    "\n"
   ]
  },
  {
   "cell_type": "code",
   "execution_count": 61,
   "id": "ff5881b5",
   "metadata": {},
   "outputs": [
    {
     "name": "stdout",
     "output_type": "stream",
     "text": [
      "[1, 3, 5, 7, 9, 11, 13] <class 'list'>\n"
     ]
    }
   ],
   "source": [
    "arr = []\n",
    "l = 1\n",
    "r = 13\n",
    "\n",
    "for i in range(l,r+1):\n",
    "    if i%2 == 1:\n",
    "        arr.append(i)\n",
    "print(arr, type(arr))"
   ]
  },
  {
   "cell_type": "code",
   "execution_count": 45,
   "id": "c783fc4c",
   "metadata": {},
   "outputs": [
    {
     "name": "stdout",
     "output_type": "stream",
     "text": [
      "array('i', [1, 3, 5, 6, 9])\n",
      "array('i', [1, 3, 5, 6, 9, 11])\n"
     ]
    }
   ],
   "source": [
    "from array import *\n",
    "\n",
    "'''\n",
    "arr = array('i', [1,2,3,4,5])\n",
    "for i in arr:\n",
    "    print (i)\n",
    "print('Access first three items indivitually')    \n",
    "print(arr[0:3])\n",
    "'''\n",
    "\n",
    "arr = array ('i', [1,3,5,6,9])\n",
    "\n",
    "print(arr)\n",
    "\n",
    "arr.append(11)\n",
    "\n",
    "print(arr)"
   ]
  },
  {
   "cell_type": "code",
   "execution_count": 64,
   "id": "8ba95e26",
   "metadata": {},
   "outputs": [
    {
     "name": "stdout",
     "output_type": "stream",
     "text": [
      "Enter number of elements in array: 3\n",
      "1\n",
      "2\n",
      "3\n",
      "array('i', [3, 2, 1])\n",
      "4\n"
     ]
    }
   ],
   "source": [
    "from array import *\n",
    "\n",
    "user = array('i')\n",
    "n = int(input('Enter number of elements in array: '))\n",
    "\n",
    "for x in range (0,n):\n",
    "    user.append(int(input()))\n",
    "\n",
    "arr = array('i', user)\n",
    "arr.reverse()\n",
    "\n",
    "print(arr)\n",
    "print(arr.itemsize)\n"
   ]
  },
  {
   "cell_type": "code",
   "execution_count": 71,
   "id": "cd0a14e8",
   "metadata": {},
   "outputs": [
    {
     "name": "stdout",
     "output_type": "stream",
     "text": [
      "pork 25.3\n",
      "beef 33.8\n",
      "chicken 22.7\n",
      "\n",
      "Check other one with variables\n",
      "\n",
      "pork 25.3\n",
      "beef 33.8\n",
      "chicken 22.7\n"
     ]
    }
   ],
   "source": [
    "import random\n",
    "\n",
    "x = dict(pork = 25.3, beef =33.8, chicken = 22.7)\n",
    "#print(x)\n",
    "#print(x.keys())\n",
    "#print(x.values())\n",
    "#print(x.items())\n",
    "\n",
    "for key in x:\n",
    "    print(key, x[key])\n",
    "\n",
    "print('\\nCheck other one with variables\\n')\n",
    "\n",
    "for a, b in x.items():\n",
    "    print(a,b)"
   ]
  },
  {
   "cell_type": "code",
   "execution_count": 92,
   "id": "c515ec84",
   "metadata": {},
   "outputs": [
    {
     "name": "stdout",
     "output_type": "stream",
     "text": [
      "['K', 'P', 'L', 'M', 'O', 'J', 'N'] ['K', 'P', 'M', 'O', 'J', 'N']\n"
     ]
    }
   ],
   "source": [
    "#List Comprehensions\n",
    "\n",
    "#syntax: new_list = [transform_sequence [filter]]\n",
    "\n",
    "under_10 = [x for x in range(10)]\n",
    "#print('under_10: ' + str(under_10))\n",
    "\n",
    "#squared\n",
    "squares = [x**2 for x in range(4,16)]\n",
    "#print('Squares: ' + str(squares))\n",
    "\n",
    "#get odd numbers using mods\n",
    "\n",
    "odds = [x for x in range(10,21) if x%2 != 0]\n",
    "#print('Odds between 10 and 20: ' + str(odds))\n",
    "\n",
    "#Get numbers from a string\n",
    "\n",
    "s = 'I love 2 go t0 the store 7 times a w3ek.'\n",
    "nums = [x for x in s if x.isnumeric()]\n",
    "#print('nums: ' + ''.join(nums))\n",
    "\n",
    "names = ['Ransford', 'Peter', 'Alhaji', 'Ghost', 'Louisa']\n",
    "idx = [j for j, k in enumerate(names) if k == 'Peter']\n",
    "#print(idx)\n",
    "\n",
    "#print('\\nindex = ' + str(idx[0]))\n",
    "\n",
    "\n",
    "#Delete an item from a list:\n",
    "\n",
    "letters = [x for x in 'JKLMNOP']\n",
    "random.shuffle(letters)\n",
    "\n",
    "lets = [a for a in letters if a != 'L']\n",
    "print(letters, lets)\n"
   ]
  },
  {
   "cell_type": "markdown",
   "id": "ef7562a3",
   "metadata": {},
   "source": [
    "### STACKS - IMPLEMENTATION IN PYTHON"
   ]
  },
  {
   "cell_type": "code",
   "execution_count": 82,
   "id": "bb66d43b",
   "metadata": {},
   "outputs": [
    {
     "name": "stdout",
     "output_type": "stream",
     "text": [
      "[5, 10, 15, 20]\n",
      "\n",
      "\n",
      "\n",
      "20\n",
      "15\n",
      "10\n",
      "5\n"
     ]
    }
   ],
   "source": [
    "my_stack = []\n",
    "my_stack.append(5)\n",
    "my_stack.append(10)\n",
    "my_stack.append(15)\n",
    "my_stack.append(20)\n",
    "print(my_stack)\n",
    "print('\\n\\n')\n",
    "print(my_stack.pop())\n",
    "print(my_stack.pop())\n",
    "print(my_stack.pop())\n",
    "print(my_stack.pop())\n"
   ]
  },
  {
   "cell_type": "markdown",
   "id": "7a55cbb2",
   "metadata": {},
   "source": [
    "## ARRAY ROTATION"
   ]
  },
  {
   "cell_type": "code",
   "execution_count": 84,
   "id": "e41e6919",
   "metadata": {},
   "outputs": [
    {
     "name": "stdout",
     "output_type": "stream",
     "text": [
      "c for clockwise rotation and cc for counter-clockwise: cc\n"
     ]
    },
    {
     "data": {
      "text/plain": [
       "([[3, 6, 9], [2, 5, 8], [1, 4, 7]], list)"
      ]
     },
     "execution_count": 84,
     "metadata": {},
     "output_type": "execute_result"
    }
   ],
   "source": [
    "def rotate90(arr_2D):\n",
    "    rotated=[]\n",
    "    arr_length = len(arr_2D)\n",
    "    #print(arr_length)\n",
    "    x = input(\"c for clockwise rotation and cc for counter-clockwise: \")\n",
    "    for i in range(arr_length):\n",
    "        rotated.append([])\n",
    "    for i in range(arr_length):\n",
    "        for j in range(arr_length):\n",
    "            if x == 'cc':\n",
    "                rotated[i].append(arr_2D[j].pop(-1))\n",
    "            elif x == 'c':\n",
    "                rotated[i].insert(0,arr_2D[j].pop(0))\n",
    "                print(rotated)\n",
    "    return rotated, type(rotated)\n",
    "    \n",
    "rotate90([[1,2,3],[4,5,6],[7,8,9]])"
   ]
  },
  {
   "cell_type": "markdown",
   "id": "ef1dc514",
   "metadata": {},
   "source": [
    "## "
   ]
  }
 ],
 "metadata": {
  "kernelspec": {
   "display_name": "Python 3",
   "language": "python",
   "name": "python3"
  },
  "language_info": {
   "codemirror_mode": {
    "name": "ipython",
    "version": 3
   },
   "file_extension": ".py",
   "mimetype": "text/x-python",
   "name": "python",
   "nbconvert_exporter": "python",
   "pygments_lexer": "ipython3",
   "version": "3.8.11"
  }
 },
 "nbformat": 4,
 "nbformat_minor": 5
}
