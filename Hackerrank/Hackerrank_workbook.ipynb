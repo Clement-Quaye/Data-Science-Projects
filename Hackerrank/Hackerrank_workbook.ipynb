{
 "cells": [
  {
   "cell_type": "code",
   "execution_count": 2,
   "id": "dff8e91c",
   "metadata": {},
   "outputs": [
    {
     "name": "stdout",
     "output_type": "stream",
     "text": [
      "Salary 1:  <function salary at 0x0000022FBE43FF70>\n",
      "Salary:  12000\n"
     ]
    }
   ],
   "source": [
    "salary = 8000\n",
    "def salary():\n",
    "    salary = 12000\n",
    "    print(\"Salary: \", salary)\n",
    "\n",
    "print(\"Salary 1: \", salary)\n",
    "salary()"
   ]
  },
  {
   "cell_type": "code",
   "execution_count": 19,
   "id": "62778179",
   "metadata": {},
   "outputs": [
    {
     "ename": "SyntaxError",
     "evalue": "invalid syntax (<ipython-input-19-0b3c6a308b74>, line 5)",
     "output_type": "error",
     "traceback": [
      "\u001b[1;36m  File \u001b[1;32m\"<ipython-input-19-0b3c6a308b74>\"\u001b[1;36m, line \u001b[1;32m5\u001b[0m\n\u001b[1;33m    perms = [i,j,k for i in range(x) for j in range(y) for k in range(z)]\u001b[0m\n\u001b[1;37m                   ^\u001b[0m\n\u001b[1;31mSyntaxError\u001b[0m\u001b[1;31m:\u001b[0m invalid syntax\n"
     ]
    }
   ],
   "source": [
    "x = 1\n",
    "y = 1\n",
    "z = 2\n",
    "n = 3\n",
    "perms = [i,j,k for i in range(x) for j in range(y) for k in range(z)] \n",
    "print(perms)"
   ]
  },
  {
   "cell_type": "code",
   "execution_count": null,
   "id": "99c9b8f4",
   "metadata": {},
   "outputs": [],
   "source": []
  }
 ],
 "metadata": {
  "kernelspec": {
   "display_name": "Python 3 (ipykernel)",
   "language": "python",
   "name": "python3"
  },
  "language_info": {
   "codemirror_mode": {
    "name": "ipython",
    "version": 3
   },
   "file_extension": ".py",
   "mimetype": "text/x-python",
   "name": "python",
   "nbconvert_exporter": "python",
   "pygments_lexer": "ipython3",
   "version": "3.9.13"
  }
 },
 "nbformat": 4,
 "nbformat_minor": 5
}
